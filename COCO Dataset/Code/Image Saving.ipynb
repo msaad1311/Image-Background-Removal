{
 "cells": [
  {
   "cell_type": "code",
   "execution_count": 1,
   "metadata": {},
   "outputs": [
    {
     "name": "stdout",
     "output_type": "stream",
     "text": [
      "Libraries Loaded\n"
     ]
    }
   ],
   "source": [
    "from pycocotools.coco import COCO\n",
    "import numpy as np\n",
    "import skimage.io as io\n",
    "import random\n",
    "import os\n",
    "import cv2\n",
    "from tqdm import tqdm\n",
    "import image_slicer\n",
    "\n",
    "import tensorflow as tf\n",
    "from tensorflow import keras\n",
    "from tensorflow.keras.preprocessing.image import ImageDataGenerator\n",
    "from tensorflow.keras.layers import *\n",
    "from tensorflow.keras.models import Model, Sequential, load_model\n",
    "os.environ['TF_FORCE_GPU_ALLOW_GROWTH'] = 'true'\n",
    "gpus = tf.config.experimental.list_physical_devices('GPU')\n",
    "\n",
    "### For visualizing the outputs ###\n",
    "import matplotlib.pyplot as plt\n",
    "import matplotlib.gridspec as gridspec\n",
    "%matplotlib inline\n",
    "\n",
    "print('Libraries Loaded')"
   ]
  },
  {
   "cell_type": "markdown",
   "metadata": {},
   "source": [
    "## Utilities "
   ]
  },
  {
   "cell_type": "code",
   "execution_count": 17,
   "metadata": {},
   "outputs": [],
   "source": [
    "def save_imgs(src_path,dest_path,className,coco,width,height):\n",
    "    '''\n",
    "    Developed by: Muhammad Saad (c)\n",
    "    \n",
    "    The function basically saves all the specific images to a folder. It filters out the images on the basis of the \n",
    "    class provided.\n",
    "    \n",
    "    Parameters:\n",
    "        src_path (str): The path where the images are present. The source folder is input.\n",
    "        dest_path (str): The path where you want to save the preprocessed images.\n",
    "        className (str): The supercategory that will be applied to filter out the images.\n",
    "        coco (obj): The module to conduct all the actions for the loading the images.\n",
    "        img_input_size (tuple): The desired image size. It has to be width x height only\n",
    "    \n",
    "    Returns:\n",
    "        unique_images (dict): The dictionary of all the images that are unique of the specified class\n",
    "        catIds (list) : The list of the ids that are extracted from the class specified \n",
    "        \n",
    "        The images are also saved into the specified folder\n",
    "    '''\n",
    "    path_old = os.getcwd()\n",
    "    os.chdir(src_path)\n",
    "    classes = [className]\n",
    "\n",
    "    images = []\n",
    "    if classes!=None:\n",
    "        # iterate for each individual class in the list\n",
    "        for className in tqdm(classes):\n",
    "            # get all images containing given class\n",
    "            catIds = coco.getCatIds(catNms=className)\n",
    "            imgIds = coco.getImgIds(catIds=catIds)\n",
    "            images += coco.loadImgs(imgIds)\n",
    "    else:\n",
    "        imgIds = coco.getImgIds()\n",
    "        images = coco.loadImgs(imgIds)\n",
    "\n",
    "    # Now, filter out the repeated images    \n",
    "    unique_images = []\n",
    "    for i in tqdm(range(len(images)),desc='Image Segregation'):\n",
    "        if images[i] not in unique_images:\n",
    "            unique_images.append(images[i])\n",
    "            \n",
    "\n",
    "    dataset_size = len(unique_images)\n",
    "\n",
    "    print(\"Number of images containing the filter classes:\", dataset_size)\n",
    "    \n",
    "    ## Saving the images to the destination folder\n",
    "    \n",
    "    for i in tqdm(range(len(unique_images)),desc='Saving Images'):\n",
    "        img=cv2.resize(cv2.imread(unique_images[i]['file_name']),(height,width))\n",
    "        cv2.imwrite(os.path.join(dest_path,unique_images[i]['file_name']),img)\n",
    "    \n",
    "    os.chdir(path_old)\n",
    "    \n",
    "    return unique_images,catIds\n",
    "\n",
    "def save_ann(dest_path,unique_images,coco,cat_ids,width,height):\n",
    "    '''\n",
    "    Developed by: Muhammad Saad (c)\n",
    "    \n",
    "    The module saves the annotations to any specified folder. \n",
    "    \n",
    "    Parameters:\n",
    "        dest_path (str): The path where you want to save the annotations\n",
    "        unique_images (dict): The dictionary of all the unique images of a specific class. \n",
    "        coco (obj) : The object for the coco which has all the variables\n",
    "        cat_ids (list): The list of ids that are being extracted from the class\n",
    "    \n",
    "    Return:\n",
    "        The images are saved into the specified folder\n",
    "    '''\n",
    "    path_old = os.getcwd()\n",
    "    os.chdir(dest_path)\n",
    "    print(f'The total images are {len(unique_images)}')\n",
    "    for i in tqdm(range(len(unique_images)),desc='Annotation Saving'):\n",
    "        img=unique_images[i]['id'] # Extracting the id of the image\n",
    "        filename =unique_images[i]['file_name']\n",
    "        ann_id=coco.getAnnIds(img, catIds=cat_ids, iscrowd=None)\n",
    "        anns = coco.loadAnns(ann_id)\n",
    "        mask = np.zeros((height,width))\n",
    "        if len(anns)>1:\n",
    "            continue\n",
    "        else:\n",
    "            new_mask = cv2.resize(coco.annToMask(anns[0]), (width,height))\n",
    "            new_mask[new_mask >= 0.5] = 1\n",
    "            new_mask[new_mask < 0.5] = 0\n",
    "            mask = np.maximum(new_mask, mask)\n",
    "            cv2.imwrite(filename,cv2.convertScaleAbs(mask, alpha=(255.0)))\n",
    "    os.chdir(path_old)\n",
    "    return\n",
    "\n",
    "def cleanup(target_path,reference_path):\n",
    "    path_old = os.getcwd()\n",
    "    count=0\n",
    "    for i in os.listdir(target_path):\n",
    "        if i not in os.listdir(reference_path):\n",
    "            os.remove(os.path.join(target_path,i))\n",
    "            count+=1\n",
    "    print(f'{count} files removed')\n",
    "    return\n",
    "\n",
    "def slicer(path,slices):\n",
    "    path_old = os.getcwd()\n",
    "    os.chdir(path)\n",
    "    for i in sorted(os.listdir()):\n",
    "        temp = image_slicer.slice(i,slices)\n",
    "        os.remove(i)\n",
    "    \n",
    "    os.chdir(path_old)\n",
    "    \n",
    "    return"
   ]
  },
  {
   "cell_type": "markdown",
   "metadata": {},
   "source": [
    "## Main"
   ]
  },
  {
   "cell_type": "code",
   "execution_count": 3,
   "metadata": {},
   "outputs": [
    {
     "name": "stdout",
     "output_type": "stream",
     "text": [
      "loading annotations into memory...\n",
      "Done (t=0.78s)\n",
      "creating index...\n",
      "index created!\n"
     ]
    }
   ],
   "source": [
    "## Folders\n",
    "root = r'C:\\Users\\saad\\Desktop\\Image-Background-Removal\\COCO Dataset\\COCOdataset2017'\n",
    "annotations = r'annotations'\n",
    "images = r'images'\n",
    "pre_imgs = r'Preprocesed_images'\n",
    "\n",
    "## Training\n",
    "train_img = 'train'\n",
    "train_ann = 'instances_train.json'\n",
    "train_process = 'train_images'\n",
    "\n",
    "## Validation\n",
    "val_img = r'val'\n",
    "val_ann = r'instances_val.json'\n",
    "val_img_process = 'val_images'\n",
    "val_ann_process = 'val_ann'\n",
    "\n",
    "## Initialize the COCO api for instance annotations\n",
    "# coco_train=COCO(os.path.join(root,annotation,train_ann))\n",
    "coco_val=COCO(os.path.join(root,annotations,val_ann))\n"
   ]
  },
  {
   "cell_type": "code",
   "execution_count": 4,
   "metadata": {},
   "outputs": [
    {
     "name": "stderr",
     "output_type": "stream",
     "text": [
      "100%|███████████████████████████████████████████████████████████████████████████████████| 1/1 [00:00<00:00, 902.58it/s]\n",
      "Image Segregation: 100%|█████████████████████████████████████████████████████████| 2693/2693 [00:00<00:00, 9764.35it/s]\n",
      "Saving Images:   0%|▏                                                                 | 6/2693 [00:00<00:49, 54.10it/s]"
     ]
    },
    {
     "name": "stdout",
     "output_type": "stream",
     "text": [
      "Number of images containing the filter classes: 2693\n"
     ]
    },
    {
     "name": "stderr",
     "output_type": "stream",
     "text": [
      "Saving Images: 100%|███████████████████████████████████████████████████████████████| 2693/2693 [00:55<00:00, 48.52it/s]\n"
     ]
    }
   ],
   "source": [
    "images,ids=save_imgs(os.path.join(root,images,val_img),os.path.join(root,pre_imgs,val_img_process),'person',coco_val,480,640)"
   ]
  },
  {
   "cell_type": "code",
   "execution_count": 7,
   "metadata": {
    "scrolled": true
   },
   "outputs": [
    {
     "name": "stderr",
     "output_type": "stream",
     "text": [
      "Annotation Saving:   3%|█▋                                                          | 74/2693 [00:00<00:07, 361.93it/s]"
     ]
    },
    {
     "name": "stdout",
     "output_type": "stream",
     "text": [
      "The total images are 2693\n"
     ]
    },
    {
     "name": "stderr",
     "output_type": "stream",
     "text": [
      "Annotation Saving: 100%|██████████████████████████████████████████████████████████| 2693/2693 [00:08<00:00, 322.94it/s]\n"
     ]
    }
   ],
   "source": [
    "save_ann(os.path.join(root,pre_imgs,val_ann_process),images,coco_val,ids,640,480)"
   ]
  },
  {
   "cell_type": "code",
   "execution_count": 8,
   "metadata": {},
   "outputs": [
    {
     "name": "stdout",
     "output_type": "stream",
     "text": [
      "1648 files removed\n"
     ]
    }
   ],
   "source": [
    "cleanup(os.path.join(root,pre_imgs,val_img_process),os.path.join(root,pre_imgs,val_ann_process))"
   ]
  },
  {
   "cell_type": "code",
   "execution_count": 18,
   "metadata": {},
   "outputs": [
    {
     "name": "stdout",
     "output_type": "stream",
     "text": [
      "image slicing complete\n",
      "annotation slicing complete\n"
     ]
    }
   ],
   "source": [
    "# Slicing for images\n",
    "slicer(os.path.join(root,pre_imgs,val_img_process),2)\n",
    "print('image slicing complete')\n",
    "# Slicing for annotation\n",
    "slicer(os.path.join(root,pre_imgs,val_ann_process),2)\n",
    "print('annotation slicing complete')"
   ]
  },
  {
   "cell_type": "code",
   "execution_count": null,
   "metadata": {},
   "outputs": [],
   "source": []
  }
 ],
 "metadata": {
  "kernelspec": {
   "display_name": "Python 3",
   "language": "python",
   "name": "python3"
  },
  "language_info": {
   "codemirror_mode": {
    "name": "ipython",
    "version": 3
   },
   "file_extension": ".py",
   "mimetype": "text/x-python",
   "name": "python",
   "nbconvert_exporter": "python",
   "pygments_lexer": "ipython3",
   "version": "3.7.9"
  }
 },
 "nbformat": 4,
 "nbformat_minor": 4
}
