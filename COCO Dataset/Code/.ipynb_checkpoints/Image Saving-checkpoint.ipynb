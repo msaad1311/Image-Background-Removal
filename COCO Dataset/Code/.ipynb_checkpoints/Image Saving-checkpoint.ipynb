{
 "cells": [
  {
   "cell_type": "code",
   "execution_count": 11,
   "metadata": {},
   "outputs": [
    {
     "name": "stdout",
     "output_type": "stream",
     "text": [
      "Libraries Loaded\n"
     ]
    }
   ],
   "source": [
    "from pycocotools.coco import COCO\n",
    "import numpy as np\n",
    "import os\n",
    "import cv2\n",
    "import importlib\n",
    "\n",
    "import utils; importlib.reload(utils)\n",
    "\n",
    "print('Libraries Loaded')"
   ]
  },
  {
   "cell_type": "markdown",
   "metadata": {},
   "source": [
    "## Main"
   ]
  },
  {
   "cell_type": "code",
   "execution_count": 12,
   "metadata": {},
   "outputs": [
    {
     "name": "stdout",
     "output_type": "stream",
     "text": [
      "loading annotations into memory...\n",
      "Done (t=0.75s)\n",
      "creating index...\n",
      "index created!\n"
     ]
    }
   ],
   "source": [
    "## Dimensions of the Image\n",
    "\n",
    "width = 448\n",
    "height = 224\n",
    "\n",
    "## Folders\n",
    "root = r'C:\\Users\\saad\\Desktop\\Image-Background-Removal\\COCO Dataset\\COCOdataset2017'\n",
    "annotations = r'annotations'\n",
    "images = r'images'\n",
    "pre_imgs = r'Preprocesed_images'\n",
    "\n",
    "## Training\n",
    "train_img = 'train'\n",
    "train_ann = 'instances_train.json'\n",
    "train_process = 'train_images'\n",
    "\n",
    "## Validation\n",
    "val_img = r'val'\n",
    "val_ann = r'instances_val.json'\n",
    "val_img_process = 'val_images'\n",
    "val_ann_process = 'val_ann'\n",
    "\n",
    "## Initialize the COCO api for instance annotations\n",
    "# coco_train=COCO(os.path.join(root,annotation,train_ann))\n",
    "coco_val=COCO(os.path.join(root,annotations,val_ann))\n"
   ]
  },
  {
   "cell_type": "code",
   "execution_count": 13,
   "metadata": {},
   "outputs": [
    {
     "name": "stderr",
     "output_type": "stream",
     "text": [
      "100%|███████████████████████████████████████████████████████████████████████████████████| 1/1 [00:00<00:00, 500.22it/s]\n",
      "Image Segregation: 100%|█████████████████████████████████████████████████████████| 2693/2693 [00:00<00:00, 9881.96it/s]\n",
      "Saving Images:   0%|▏                                                                 | 9/2693 [00:00<00:31, 86.37it/s]"
     ]
    },
    {
     "name": "stdout",
     "output_type": "stream",
     "text": [
      "Number of images containing the filter classes: 2693\n"
     ]
    },
    {
     "name": "stderr",
     "output_type": "stream",
     "text": [
      "Saving Images: 100%|███████████████████████████████████████████████████████████████| 2693/2693 [00:35<00:00, 75.99it/s]\n"
     ]
    }
   ],
   "source": [
    "images,ids=utils.save_imgs(os.path.join(root,images,val_img),os.path.join(root,pre_imgs,val_img_process),'person',\n",
    "                     coco_val,width,height)"
   ]
  },
  {
   "cell_type": "code",
   "execution_count": 14,
   "metadata": {
    "scrolled": true
   },
   "outputs": [
    {
     "name": "stderr",
     "output_type": "stream",
     "text": [
      "Annotation Saving:   8%|████▊                                                     | 225/2693 [00:00<00:02, 1092.02it/s]"
     ]
    },
    {
     "name": "stdout",
     "output_type": "stream",
     "text": [
      "The total images are 2693\n"
     ]
    },
    {
     "name": "stderr",
     "output_type": "stream",
     "text": [
      "Annotation Saving: 100%|██████████████████████████████████████████████████████████| 2693/2693 [00:03<00:00, 688.96it/s]\n"
     ]
    }
   ],
   "source": [
    "utils.save_ann(os.path.join(root,pre_imgs,val_ann_process),images,coco_val,ids,width,height)"
   ]
  },
  {
   "cell_type": "code",
   "execution_count": 15,
   "metadata": {},
   "outputs": [
    {
     "name": "stdout",
     "output_type": "stream",
     "text": [
      "1648 files removed\n"
     ]
    }
   ],
   "source": [
    "utils.cleanup(os.path.join(root,pre_imgs,val_img_process),os.path.join(root,pre_imgs,val_ann_process))"
   ]
  },
  {
   "cell_type": "code",
   "execution_count": 16,
   "metadata": {},
   "outputs": [
    {
     "name": "stdout",
     "output_type": "stream",
     "text": [
      "image slicing complete\n",
      "annotation slicing complete\n"
     ]
    }
   ],
   "source": [
    "# Slicing for images\n",
    "utils.slicer(os.path.join(root,pre_imgs,val_img_process),2)\n",
    "print('image slicing complete')\n",
    "# Slicing for annotation\n",
    "utils.slicer(os.path.join(root,pre_imgs,val_ann_process),2)\n",
    "print('annotation slicing complete')"
   ]
  },
  {
   "cell_type": "code",
   "execution_count": null,
   "metadata": {},
   "outputs": [],
   "source": []
  }
 ],
 "metadata": {
  "kernelspec": {
   "display_name": "Python 3",
   "language": "python",
   "name": "python3"
  },
  "language_info": {
   "codemirror_mode": {
    "name": "ipython",
    "version": 3
   },
   "file_extension": ".py",
   "mimetype": "text/x-python",
   "name": "python",
   "nbconvert_exporter": "python",
   "pygments_lexer": "ipython3",
   "version": "3.7.9"
  }
 },
 "nbformat": 4,
 "nbformat_minor": 4
}
